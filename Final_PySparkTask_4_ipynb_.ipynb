{
  "nbformat": 4,
  "nbformat_minor": 0,
  "metadata": {
    "colab": {
      "provenance": []
    },
    "kernelspec": {
      "name": "python3",
      "display_name": "Python 3"
    },
    "language_info": {
      "name": "python"
    }
  },
  "cells": [
    {
      "cell_type": "markdown",
      "source": [
        "Итоговое задание  №4"
      ],
      "metadata": {
        "id": "KLSjDAA_mN0D"
      }
    },
    {
      "cell_type": "code",
      "source": [
        "from pyspark.sql import SparkSession\n",
        "\n",
        "spark = SparkSession.builder \\\n",
        "    .appName(\"MySparkApp\") \\\n",
        "    .getOrCreate()\n",
        "\n",
        "data = spark.read.csv(\n",
        "    'web_server_logs.csv',\n",
        "    inferSchema=True, header=True)\n",
        "\n",
        "# 1. Сгруппируйте данные по IP и посчитайте количество запросов для каждого IP, выводим 10 самых активных IP. Формат вывода, как на скрине ниже.\n",
        "print(\"Top 10 active IP adresses:\")\n",
        "grouped_by_ip_data = data.groupBy('ip').count().withColumnRenamed(\"count\", \"reqest_count\").show(10)\n",
        "\n",
        "# 2. Сгруппируйте данные по HTTP-методу и посчитайте количество запросов для каждого метода.\n",
        "print(\"Reqest count by HTTP metod:\")\n",
        "grouped_by_method_data = data.groupBy('method').count().withColumnRenamed(\"count\", \"method_count\").show(10)\n",
        "\n",
        "# 3. Профильтруйте и посчитайте количество запросов с кодом ответа 404.\n",
        "filtered_data = data.filter(data[\"response_code\"] == 404 ).count()\n",
        "print( f\"Number of 404 response codes: {filtered_data}\")\n",
        "\n",
        "# 4. Сгруппируйте данные по дате и просуммируйте размер ответов, сортируйте по дате.\n",
        "data_with_casted_date = data.withColumn(\"timestamp\", data[\"timestamp\"].cast(\"date\")).withColumnRenamed(\"timestamp\", \"date\")\n",
        "print(\"Total response size by day:\")\n",
        "grouped_by_date_data = data_with_casted_date.groupBy('date').sum(\"response_size\").withColumnRenamed(\"sum(response_size)\", \"total_response_size\").orderBy('date').show()\n",
        "spark.stop()\n",
        "\n",
        "\n",
        "\n"
      ],
      "metadata": {
        "colab": {
          "base_uri": "https://localhost:8080/"
        },
        "id": "BXaBVTmLmME_",
        "outputId": "aaa8cece-b4bf-4f53-abe4-c47ceea33dba"
      },
      "execution_count": 10,
      "outputs": [
        {
          "output_type": "stream",
          "name": "stdout",
          "text": [
            "Top 10 active IP adresses:\n",
            "+---------------+------------+\n",
            "|             ip|reqest_count|\n",
            "+---------------+------------+\n",
            "|203.189.169.101|           1|\n",
            "| 108.160.30.195|           1|\n",
            "| 138.36.179.146|           1|\n",
            "|110.249.237.206|           1|\n",
            "|  142.22.91.217|           1|\n",
            "|  165.34.55.125|           1|\n",
            "|126.169.251.180|           1|\n",
            "|   77.46.17.131|           1|\n",
            "|   88.0.245.242|           1|\n",
            "| 107.159.177.70|           1|\n",
            "+---------------+------------+\n",
            "only showing top 10 rows\n",
            "\n",
            "Reqest count by HTTP metod:\n",
            "+------+------------+\n",
            "|method|method_count|\n",
            "+------+------------+\n",
            "|  POST|       25043|\n",
            "|DELETE|       25035|\n",
            "|   PUT|       24828|\n",
            "|   GET|       25094|\n",
            "+------+------------+\n",
            "\n",
            "Number of 404 response codes: 25022\n",
            "Total response size by day:\n",
            "+----------+-------------------+\n",
            "|      date|total_response_size|\n",
            "+----------+-------------------+\n",
            "|2024-01-01|            2080350|\n",
            "|2024-01-02|            2199699|\n",
            "|2024-01-03|            2055936|\n",
            "|2024-01-04|            1977906|\n",
            "|2024-01-05|            2134688|\n",
            "|2024-01-06|            2169685|\n",
            "|2024-01-07|            2088871|\n",
            "|2024-01-08|            2087803|\n",
            "|2024-01-09|            2092943|\n",
            "|2024-01-10|            2097854|\n",
            "|2024-01-11|            1953070|\n",
            "|2024-01-12|            2016283|\n",
            "|2024-01-13|            2129842|\n",
            "|2024-01-14|            2000946|\n",
            "|2024-01-15|            2123943|\n",
            "|2024-01-16|            2070921|\n",
            "|2024-01-17|            2036774|\n",
            "|2024-01-18|            2175792|\n",
            "|2024-01-19|            1951587|\n",
            "|2024-01-20|            1978586|\n",
            "+----------+-------------------+\n",
            "only showing top 20 rows\n",
            "\n"
          ]
        }
      ]
    }
  ]
}